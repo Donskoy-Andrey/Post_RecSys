{
 "cells": [
  {
   "cell_type": "code",
   "execution_count": null,
   "metadata": {},
   "outputs": [],
   "source": [
    "from datetime import datetime\n",
    "import pandas as pd\n",
    "import random\n",
    "import numpy as np\n",
    "import joblib"
   ]
  },
  {
   "cell_type": "code",
   "execution_count": 1,
   "metadata": {
    "scrolled": true
   },
   "outputs": [
    {
     "name": "stdout",
     "output_type": "stream",
     "text": [
      "Requirement already satisfied: catboost in c:\\users\\user\\anaconda3\\lib\\site-packages (1.0.4)\n",
      "Requirement already satisfied: graphviz in c:\\users\\user\\anaconda3\\lib\\site-packages (from catboost) (0.19.1)\n",
      "Requirement already satisfied: six in c:\\users\\user\\anaconda3\\lib\\site-packages (from catboost) (1.16.0)\n",
      "Requirement already satisfied: numpy>=1.16.0 in c:\\users\\user\\anaconda3\\lib\\site-packages (from catboost) (1.22.3)\n",
      "Requirement already satisfied: plotly in c:\\users\\user\\anaconda3\\lib\\site-packages (from catboost) (5.6.0)\n",
      "Requirement already satisfied: scipy in c:\\users\\user\\anaconda3\\lib\\site-packages (from catboost) (1.7.3)\n",
      "Requirement already satisfied: matplotlib in c:\\users\\user\\anaconda3\\lib\\site-packages (from catboost) (3.5.1)\n",
      "Requirement already satisfied: pandas>=0.24.0 in c:\\users\\user\\anaconda3\\lib\\site-packages (from catboost) (1.4.1)\n",
      "Requirement already satisfied: python-dateutil>=2.8.1 in c:\\users\\user\\anaconda3\\lib\\site-packages (from pandas>=0.24.0->catboost) (2.8.2)\n",
      "Requirement already satisfied: pytz>=2020.1 in c:\\users\\user\\anaconda3\\lib\\site-packages (from pandas>=0.24.0->catboost) (2021.3)\n",
      "Requirement already satisfied: pyparsing>=2.2.1 in c:\\users\\user\\anaconda3\\lib\\site-packages (from matplotlib->catboost) (3.0.4)\n",
      "Requirement already satisfied: fonttools>=4.22.0 in c:\\users\\user\\anaconda3\\lib\\site-packages (from matplotlib->catboost) (4.25.0)\n",
      "Requirement already satisfied: pillow>=6.2.0 in c:\\users\\user\\anaconda3\\lib\\site-packages (from matplotlib->catboost) (9.0.1)\n",
      "Requirement already satisfied: kiwisolver>=1.0.1 in c:\\users\\user\\anaconda3\\lib\\site-packages (from matplotlib->catboost) (1.3.2)\n",
      "Requirement already satisfied: cycler>=0.10 in c:\\users\\user\\anaconda3\\lib\\site-packages (from matplotlib->catboost) (0.11.0)\n",
      "Requirement already satisfied: packaging>=20.0 in c:\\users\\user\\anaconda3\\lib\\site-packages (from matplotlib->catboost) (21.3)\n",
      "Requirement already satisfied: tenacity>=6.2.0 in c:\\users\\user\\anaconda3\\lib\\site-packages (from plotly->catboost) (8.0.1)\n"
     ]
    }
   ],
   "source": [
    "!pip install catboost\n",
    "from catboost import CatBoostClassifier\n",
    "from sklearn.pipeline import Pipeline\n",
    "from sklearn.preprocessing import StandardScaler\n",
    "from sklearn.linear_model import LogisticRegression\n",
    "\n",
    "from sklearn.model_selection import train_test_split\n",
    "from sklearn.metrics import roc_auc_score\n",
    "from sklearn.model_selection import GridSearchCV"
   ]
  },
  {
   "cell_type": "markdown",
   "metadata": {},
   "source": [
    "# MODEL TRAINING"
   ]
  },
  {
   "cell_type": "code",
   "execution_count": 57,
   "metadata": {
    "id": "XOYSmcCmTq9f"
   },
   "outputs": [],
   "source": [
    "X = all_data.drop(['target'], axis=1)\n",
    "y = all_data['target']"
   ]
  },
  {
   "cell_type": "code",
   "execution_count": 58,
   "metadata": {},
   "outputs": [
    {
     "data": {
      "text/html": [
       "<div>\n",
       "<style scoped>\n",
       "    .dataframe tbody tr th:only-of-type {\n",
       "        vertical-align: middle;\n",
       "    }\n",
       "\n",
       "    .dataframe tbody tr th {\n",
       "        vertical-align: top;\n",
       "    }\n",
       "\n",
       "    .dataframe thead th {\n",
       "        text-align: right;\n",
       "    }\n",
       "</style>\n",
       "<table border=\"1\" class=\"dataframe\">\n",
       "  <thead>\n",
       "    <tr style=\"text-align: right;\">\n",
       "      <th></th>\n",
       "      <th>gender</th>\n",
       "      <th>age</th>\n",
       "      <th>country</th>\n",
       "      <th>city</th>\n",
       "      <th>exp_group</th>\n",
       "      <th>month</th>\n",
       "      <th>weekday</th>\n",
       "      <th>hour</th>\n",
       "      <th>minute</th>\n",
       "      <th>topic</th>\n",
       "      <th>text_len</th>\n",
       "      <th>cluster_0</th>\n",
       "      <th>cluster_1</th>\n",
       "      <th>cluster_2</th>\n",
       "      <th>cluster_3</th>\n",
       "      <th>cluster_4</th>\n",
       "      <th>cluster_5</th>\n",
       "      <th>cluster_6</th>\n",
       "      <th>os_iOS</th>\n",
       "      <th>source_organic</th>\n",
       "    </tr>\n",
       "  </thead>\n",
       "  <tbody>\n",
       "    <tr>\n",
       "      <th>0</th>\n",
       "      <td>0.906544</td>\n",
       "      <td>-0.895064</td>\n",
       "      <td>-1.154062</td>\n",
       "      <td>-0.118820</td>\n",
       "      <td>-0.950865</td>\n",
       "      <td>1.251898</td>\n",
       "      <td>0.003896</td>\n",
       "      <td>-0.888751</td>\n",
       "      <td>-0.838438</td>\n",
       "      <td>-1.202894</td>\n",
       "      <td>-0.142506</td>\n",
       "      <td>-0.391283</td>\n",
       "      <td>-0.355427</td>\n",
       "      <td>0.605451</td>\n",
       "      <td>-0.272002</td>\n",
       "      <td>-0.41785</td>\n",
       "      <td>-0.313876</td>\n",
       "      <td>-1.318065</td>\n",
       "      <td>1.368770</td>\n",
       "      <td>-0.490357</td>\n",
       "    </tr>\n",
       "    <tr>\n",
       "      <th>1</th>\n",
       "      <td>0.906544</td>\n",
       "      <td>-0.415498</td>\n",
       "      <td>0.346883</td>\n",
       "      <td>0.853076</td>\n",
       "      <td>-0.643327</td>\n",
       "      <td>0.025755</td>\n",
       "      <td>0.003896</td>\n",
       "      <td>0.529871</td>\n",
       "      <td>0.665887</td>\n",
       "      <td>0.135868</td>\n",
       "      <td>-0.142506</td>\n",
       "      <td>-0.391283</td>\n",
       "      <td>-0.355427</td>\n",
       "      <td>0.605451</td>\n",
       "      <td>-0.272002</td>\n",
       "      <td>-0.41785</td>\n",
       "      <td>-0.313876</td>\n",
       "      <td>-1.318065</td>\n",
       "      <td>-0.730583</td>\n",
       "      <td>2.039330</td>\n",
       "    </tr>\n",
       "    <tr>\n",
       "      <th>2</th>\n",
       "      <td>-1.103090</td>\n",
       "      <td>-1.278717</td>\n",
       "      <td>-0.245865</td>\n",
       "      <td>0.900497</td>\n",
       "      <td>0.971965</td>\n",
       "      <td>0.025755</td>\n",
       "      <td>-0.492353</td>\n",
       "      <td>-0.078110</td>\n",
       "      <td>0.145159</td>\n",
       "      <td>1.405127</td>\n",
       "      <td>-0.142506</td>\n",
       "      <td>-0.391283</td>\n",
       "      <td>-0.355427</td>\n",
       "      <td>0.605451</td>\n",
       "      <td>-0.272002</td>\n",
       "      <td>-0.41785</td>\n",
       "      <td>-0.313876</td>\n",
       "      <td>-1.318065</td>\n",
       "      <td>1.368770</td>\n",
       "      <td>2.039330</td>\n",
       "    </tr>\n",
       "    <tr>\n",
       "      <th>3</th>\n",
       "      <td>-1.103090</td>\n",
       "      <td>-1.278717</td>\n",
       "      <td>0.611080</td>\n",
       "      <td>0.843682</td>\n",
       "      <td>0.921768</td>\n",
       "      <td>1.251898</td>\n",
       "      <td>1.492642</td>\n",
       "      <td>1.137852</td>\n",
       "      <td>-1.127731</td>\n",
       "      <td>1.627725</td>\n",
       "      <td>-0.142506</td>\n",
       "      <td>-0.391283</td>\n",
       "      <td>-0.355427</td>\n",
       "      <td>0.605451</td>\n",
       "      <td>-0.272002</td>\n",
       "      <td>-0.41785</td>\n",
       "      <td>-0.313876</td>\n",
       "      <td>-1.318065</td>\n",
       "      <td>1.368770</td>\n",
       "      <td>2.039330</td>\n",
       "    </tr>\n",
       "    <tr>\n",
       "      <th>4</th>\n",
       "      <td>-1.103090</td>\n",
       "      <td>-0.607324</td>\n",
       "      <td>0.229698</td>\n",
       "      <td>-0.747899</td>\n",
       "      <td>0.692993</td>\n",
       "      <td>1.251898</td>\n",
       "      <td>1.492642</td>\n",
       "      <td>1.340513</td>\n",
       "      <td>0.955181</td>\n",
       "      <td>2.343881</td>\n",
       "      <td>-0.142506</td>\n",
       "      <td>-0.391283</td>\n",
       "      <td>-0.355427</td>\n",
       "      <td>0.605451</td>\n",
       "      <td>-0.272002</td>\n",
       "      <td>-0.41785</td>\n",
       "      <td>-0.313876</td>\n",
       "      <td>-1.318065</td>\n",
       "      <td>-0.730583</td>\n",
       "      <td>2.039330</td>\n",
       "    </tr>\n",
       "  </tbody>\n",
       "</table>\n",
       "</div>"
      ],
      "text/plain": [
       "     gender       age   country      city  exp_group     month   weekday  \\\n",
       "0  0.906544 -0.895064 -1.154062 -0.118820  -0.950865  1.251898  0.003896   \n",
       "1  0.906544 -0.415498  0.346883  0.853076  -0.643327  0.025755  0.003896   \n",
       "2 -1.103090 -1.278717 -0.245865  0.900497   0.971965  0.025755 -0.492353   \n",
       "3 -1.103090 -1.278717  0.611080  0.843682   0.921768  1.251898  1.492642   \n",
       "4 -1.103090 -0.607324  0.229698 -0.747899   0.692993  1.251898  1.492642   \n",
       "\n",
       "       hour    minute     topic  text_len  cluster_0  cluster_1  cluster_2  \\\n",
       "0 -0.888751 -0.838438 -1.202894 -0.142506  -0.391283  -0.355427   0.605451   \n",
       "1  0.529871  0.665887  0.135868 -0.142506  -0.391283  -0.355427   0.605451   \n",
       "2 -0.078110  0.145159  1.405127 -0.142506  -0.391283  -0.355427   0.605451   \n",
       "3  1.137852 -1.127731  1.627725 -0.142506  -0.391283  -0.355427   0.605451   \n",
       "4  1.340513  0.955181  2.343881 -0.142506  -0.391283  -0.355427   0.605451   \n",
       "\n",
       "   cluster_3  cluster_4  cluster_5  cluster_6    os_iOS  source_organic  \n",
       "0  -0.272002   -0.41785  -0.313876  -1.318065  1.368770       -0.490357  \n",
       "1  -0.272002   -0.41785  -0.313876  -1.318065 -0.730583        2.039330  \n",
       "2  -0.272002   -0.41785  -0.313876  -1.318065  1.368770        2.039330  \n",
       "3  -0.272002   -0.41785  -0.313876  -1.318065  1.368770        2.039330  \n",
       "4  -0.272002   -0.41785  -0.313876  -1.318065 -0.730583        2.039330  "
      ]
     },
     "execution_count": 58,
     "metadata": {},
     "output_type": "execute_result"
    }
   ],
   "source": [
    "X.head()"
   ]
  },
  {
   "cell_type": "code",
   "execution_count": 59,
   "metadata": {
    "id": "1dZLrMSZTxbf"
   },
   "outputs": [],
   "source": [
    "X_train, X_test, y_train, y_test = train_test_split(X, y, test_size=0.2, random_state=42, stratify=y)"
   ]
  },
  {
   "cell_type": "code",
   "execution_count": 65,
   "metadata": {
    "id": "LKsNUgG5UD-3"
   },
   "outputs": [],
   "source": [
    "model1 = LogisticRegression(random_state=42, class_weight='balanced', max_iter=1000)\n",
    "model2 = CatBoostClassifier(random_state=42, depth=4, iterations=1000, verbose=0)\n",
    "\n",
    "pipe1_grid = {\n",
    "    'C': [0.001, 0.01, 0.5, 1, 2, 5, 10, 30],\n",
    "}\n",
    "\n",
    "pipe2_grid = {\n",
    "    'depth': [2, 4, 6],\n",
    "    'iterations': [100, 300],\n",
    "    'l2_leaf_reg': [5, 10, 15],\n",
    "}\n",
    "\n",
    "pipes_grid = [pipe1_grid, pipe2_grid]\n",
    "names = ['Logistic Regression', 'CatBoost']"
   ]
  },
  {
   "cell_type": "code",
   "execution_count": 66,
   "metadata": {
    "id": "UONEG7MmUFzK"
   },
   "outputs": [],
   "source": [
    "def model_train(model, X_train, y_train, X_test, y_test, grid=None):\n",
    "    model_default = model\n",
    "    model_default.fit(X_train, y_train)\n",
    "    predict = model_default.predict_proba(X_test)[:, 1]\n",
    "    print(f'Standart model ROC_AUC = {roc_auc_score(y_test, predict)}')\n",
    "\n",
    "    model_grid = model\n",
    "    \n",
    "    clf = GridSearchCV(\n",
    "    model_grid,\n",
    "    grid,\n",
    "    scoring='roc_auc',\n",
    "    cv=5\n",
    ")\n",
    "    clf.fit(X_train, y_train)\n",
    "    best_model = clf.best_estimator_\n",
    "    clf_predict = best_model.predict_proba(X_test)[:, 1]\n",
    "    clf_predict_train = best_model.predict_proba(X_train)[:, 1]\n",
    "    print(f'Best model ROC_AUC = {roc_auc_score(y_test, clf_predict)}')\n",
    "    print(f'Best model ROC_AUC train = {roc_auc_score(y_train, clf_predict_train)}')\n",
    "    \n",
    "    return [model, best_model]"
   ]
  },
  {
   "cell_type": "code",
   "execution_count": 67,
   "metadata": {
    "colab": {
     "base_uri": "https://localhost:8080/",
     "height": 380
    },
    "id": "6EaTNfaVUII3",
    "outputId": "d210a9ab-3e01-406c-a414-5312a7baa21a",
    "scrolled": true
   },
   "outputs": [
    {
     "name": "stdout",
     "output_type": "stream",
     "text": [
      "\tLogistic Regression\n",
      "Standart model ROC_AUC = 0.6407371298139298\n",
      "Best model ROC_AUC = 0.640752606271174\n",
      "Best model ROC_AUC train = 0.6408918925955729\n",
      "\n",
      "\tCatBoost\n",
      "Standart model ROC_AUC = 0.6760477532224514\n",
      "Best model ROC_AUC = 0.6664723933755052\n",
      "Best model ROC_AUC train = 0.6694857568562579\n",
      "\n"
     ]
    }
   ],
   "source": [
    "all_default_models = []\n",
    "all_best_models = []\n",
    "\n",
    "for id, model in enumerate([model1, model2]):\n",
    "    print(f'\\t{names[id]}')\n",
    "    model, best_model = model_train(model, X_train, y_train, X_test, y_test, pipes_grid[id])\n",
    "    \n",
    "    all_default_models.append(model)\n",
    "    all_best_models.append(best_model)\n",
    "    print()"
   ]
  },
  {
   "cell_type": "markdown",
   "metadata": {},
   "source": [
    "# SAVE MODEL"
   ]
  },
  {
   "cell_type": "code",
   "execution_count": 70,
   "metadata": {},
   "outputs": [
    {
     "data": {
      "text/plain": [
       "['CB_best.pkl']"
      ]
     },
     "execution_count": 70,
     "metadata": {},
     "output_type": "execute_result"
    }
   ],
   "source": [
    "# 2 models for AB-testing\n",
    "\n",
    "joblib.dump(all_best_models[0], 'model_control.pkl')\n",
    "joblib.dump(all_best_models[1], 'model_test.pkl')"
   ]
  }
 ],
 "metadata": {
  "colab": {
   "name": "Проект",
   "provenance": []
  },
  "kernelspec": {
   "display_name": "Python 3 (ipykernel)",
   "language": "python",
   "name": "python3"
  },
  "language_info": {
   "codemirror_mode": {
    "name": "ipython",
    "version": 3
   },
   "file_extension": ".py",
   "mimetype": "text/x-python",
   "name": "python",
   "nbconvert_exporter": "python",
   "pygments_lexer": "ipython3",
   "version": "3.9.7"
  }
 },
 "nbformat": 4,
 "nbformat_minor": 1
}
